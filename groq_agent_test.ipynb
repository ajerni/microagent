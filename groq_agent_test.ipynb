{
 "cells": [
  {
   "cell_type": "code",
   "execution_count": 4,
   "id": "422a94ed-a402-4134-bbf9-24bf2183261f",
   "metadata": {},
   "outputs": [],
   "source": [
    "import os\n",
    "from dotenv import load_dotenv\n",
    "from groq import Groq"
   ]
  },
  {
   "cell_type": "code",
   "execution_count": 5,
   "id": "d379ea47-8cef-44cc-92fc-3c7973741d59",
   "metadata": {},
   "outputs": [],
   "source": [
    "# Initialization\n",
    "\n",
    "load_dotenv()\n",
    "os.environ['GROQ_API_KEY'] = os.getenv('GROQ_API_KEY')\n",
    "groq = Groq(\n",
    "    api_key=os.environ.get(\"GROQ_API_KEY\"),\n",
    ")"
   ]
  },
  {
   "cell_type": "code",
   "execution_count": 6,
   "id": "26b36f42-982c-4313-be58-90903b9fed9c",
   "metadata": {},
   "outputs": [
    {
     "name": "stdout",
     "output_type": "stream",
     "text": [
      "Turn 0 - Active agent: GroqAgent\n",
      "Ending turn. No tool calls or tool execution disabled.\n",
      "Run method complete. Returning response.\n",
      "I'm glad to share information about Groq. Groq is a company that specializes in the development of high-performance AI inference accelerators. Their primary focus is on creating advanced hardware and software solutions that can process large amounts of data in a rapid and efficient manner.\n",
      "\n",
      "Groq's accelerators, known as Groq Tensor Processing Units (TPUs), are considered some of the most powerful AI hardware solutions available in the market. These TPUs are designed to accelerate applications in areas such as computer vision, natural language processing, and other AI workloads.\n",
      "\n",
      "Groq's accelerators feature a novel architecture that leverages a combination of silicon and software to deliver ultra-high performance while maintaining energy efficiency. This makes them suitable for deployment in various applications, including data centers, edge computing, and autonomous vehicles.\n",
      "\n",
      "Some key benefits of Groq's accelerators include:\n",
      "\n",
      "1. **High performance:** Groq's TPUs deliver exceptional performance in AI inference, enabling faster execution of complex applications.\n",
      "2. **Low latency:** Their accelerators provide low-latency performance, which is critical for real-time applications, such as autonomous vehicles and robotics.\n",
      "3. **Energy efficiency:** Groq's TPUs are designed to minimize energy consumption, making them suitable for deployment in data centers and other environments where energy efficiency is a concern.\n",
      "4. **Flexibility:** Their accelerators support a wide range of applications and workloads, from deep learning to recommendation systems.\n",
      "\n",
      "By leveraging Groq's expertise in AI hardware and software, I can provide detailed insights and answer specific questions about AI, machine learning, and deep learning. How can I assist you today?\n"
     ]
    }
   ],
   "source": [
    "from microagent.core import Microagent\n",
    "from microagent.types import Agent\n",
    "\n",
    "# Check if GROQ_API_KEY is set in the environment\n",
    "if \"GROQ_API_KEY\" not in os.environ:\n",
    "    raise ValueError(\"GROQ_API_KEY environment variable is not set. Please set it before running this script.\")\n",
    "\n",
    "# Initialize Microagent with Groq as the LLM provider\n",
    "client = Microagent(llm_type='groq')\n",
    "\n",
    "agent = Agent(\n",
    "    name=\"GroqAgent\",\n",
    "    instructions=\"You are a helpful agent powered by Groq.\",\n",
    "    model=\"llama-3.1-8b-instant\",\n",
    "    tool_choice=\"auto\"\n",
    ")\n",
    "\n",
    "messages = [{\"role\": \"user\", \"content\": \"Hi! Tell me about Groq.\"}]\n",
    "response = client.run(agent=agent, messages=messages)\n",
    "\n",
    "print(response.messages[-1][\"content\"])"
   ]
  },
  {
   "cell_type": "code",
   "execution_count": null,
   "id": "81c1a416-e0a5-41e0-b561-f41ff4e3a5a0",
   "metadata": {},
   "outputs": [],
   "source": []
  },
  {
   "cell_type": "code",
   "execution_count": null,
   "id": "d5c31450-7f15-4914-851f-8132fd191b02",
   "metadata": {},
   "outputs": [],
   "source": []
  }
 ],
 "metadata": {
  "kernelspec": {
   "display_name": "Python 3 (ipykernel)",
   "language": "python",
   "name": "python3"
  },
  "language_info": {
   "codemirror_mode": {
    "name": "ipython",
    "version": 3
   },
   "file_extension": ".py",
   "mimetype": "text/x-python",
   "name": "python",
   "nbconvert_exporter": "python",
   "pygments_lexer": "ipython3",
   "version": "3.11.4"
  }
 },
 "nbformat": 4,
 "nbformat_minor": 5
}
