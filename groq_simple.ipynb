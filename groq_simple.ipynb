{
 "cells": [
  {
   "cell_type": "code",
   "execution_count": null,
   "id": "1d26527b-fb45-4241-949a-ee0c38ced5fc",
   "metadata": {},
   "outputs": [],
   "source": [
    "import os\n",
    "from dotenv import load_dotenv\n",
    "from groq import Groq\n",
    "\n",
    "load_dotenv()\n",
    "os.environ['GROQ_API_KEY'] = os.getenv('GROQ_API_KEY')\n",
    "groq = Groq(api_key=os.environ.get(\"GROQ_API_KEY\"))\n",
    "\n",
    "from microagent.core import Microagent #fork from openai/swarm\n",
    "from microagent.types import Agent\n",
    "from microagent.repl import run_demo_loop\n",
    "\n",
    "if \"GROQ_API_KEY\" not in os.environ:\n",
    "    raise ValueError(\"GROQ_API_KEY environment variable is not set. Please set it before running this script.\")\n",
    "\n",
    "client = Microagent(llm_type='groq')"
   ]
  },
  {
   "cell_type": "code",
   "execution_count": null,
   "id": "c47b7594-f138-4013-9a1f-8aef7ee0b177",
   "metadata": {},
   "outputs": [],
   "source": [
    "def process_sum(nr1: int, nr2: int):\n",
    "    \"\"\"use this function whenever the user asks to add or sum something.\"\"\"\n",
    "    print(\"[mock] sum function reached...\")\n",
    "    print(f\"The sum of {nr1} and {nr2} is {nr1 + nr2}\")\n",
    "    return \"Successfully calculated the result!\"\n",
    "\n",
    "def tell_joke():\n",
    "    \"\"\"Always tell this joke when asked to tell a joke.\"\"\"\n",
    "    print(\"[mock] joke function reached...\")\n",
    "    print(\"This is the worst joke ever, but it works!\")\n",
    "    return \"Joke told.\"\n",
    "\n",
    "agent = Agent(\n",
    "    model=\"llama-3.1-70b-versatile\",\n",
    "    tool_choice=\"auto\",\n",
    "    name=\"Andi's Agent\",\n",
    "    instructions=\"You are a helpful agent.\",\n",
    "    functions=[process_sum, tell_joke]\n",
    ")\n",
    "\n",
    "run_demo_loop(agent, llm_type='groq', debug=False)"
   ]
  },
  {
   "cell_type": "code",
   "execution_count": null,
   "id": "2752292c-fe11-4f3f-86c2-74deae3bef38",
   "metadata": {},
   "outputs": [],
   "source": []
  }
 ],
 "metadata": {
  "kernelspec": {
   "display_name": "Python 3 (ipykernel)",
   "language": "python",
   "name": "python3"
  },
  "language_info": {
   "codemirror_mode": {
    "name": "ipython",
    "version": 3
   },
   "file_extension": ".py",
   "mimetype": "text/x-python",
   "name": "python",
   "nbconvert_exporter": "python",
   "pygments_lexer": "ipython3",
   "version": "3.11.4"
  }
 },
 "nbformat": 4,
 "nbformat_minor": 5
}
