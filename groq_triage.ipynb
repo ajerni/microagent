{
 "cells": [
  {
   "cell_type": "code",
   "execution_count": 4,
   "id": "422a94ed-a402-4134-bbf9-24bf2183261f",
   "metadata": {},
   "outputs": [],
   "source": [
    "import os\n",
    "from dotenv import load_dotenv\n",
    "from groq import Groq"
   ]
  },
  {
   "cell_type": "code",
   "execution_count": 5,
   "id": "d379ea47-8cef-44cc-92fc-3c7973741d59",
   "metadata": {},
   "outputs": [],
   "source": [
    "# Initialization\n",
    "\n",
    "load_dotenv()\n",
    "os.environ['GROQ_API_KEY'] = os.getenv('GROQ_API_KEY')\n",
    "groq = Groq(\n",
    "    api_key=os.environ.get(\"GROQ_API_KEY\"),\n",
    ")"
   ]
  },
  {
   "cell_type": "code",
   "execution_count": 8,
   "id": "26b36f42-982c-4313-be58-90903b9fed9c",
   "metadata": {},
   "outputs": [
    {
     "name": "stdout",
     "output_type": "stream",
     "text": [
      "Starting Microagent CLI 🤖 using Groq LLM\n"
     ]
    },
    {
     "name": "stdin",
     "output_type": "stream",
     "text": [
      "\u001b[90mUser\u001b[0m:  i want to return my dog\n"
     ]
    },
    {
     "name": "stdout",
     "output_type": "stream",
     "text": [
      "Turn 0 - Active agent: Triage Agent\n",
      "Turn 1 - Active agent: Triage Agent\n",
      "Agent updated to: name='Refunds Agent' instructions='Help the user with a refund. If the reason is that it was too expensive, offer the user a refund code. If they insist, then process the refund.' model='llama-3.1-70b-versatile' functions=[<function process_refund at 0x1050f9080>, <function apply_discount at 0x1050f98a0>, <function transfer_back_to_triage at 0x1050f8b80>] tool_choice='auto' parallel_tool_calls=True\n",
      "Turn 2 - Active agent: Refunds Agent\n",
      "Ending turn. No tool calls or tool execution disabled.\n",
      "Run method complete. Returning response.\n",
      "\u001b[94mTriage Agent\u001b[0m: \u001b[95mtransfer_to_refunds\u001b[0m(\"issue\"= \"return\", \"product\"= \"dog\")\n",
      "\u001b[94mTriage Agent\u001b[0m: \u001b[95mtransfer_to_refunds\u001b[0m()\n",
      "\u001b[94mRefunds Agent\u001b[0m: What seems to be the issue with your dog?\n"
     ]
    },
    {
     "name": "stdin",
     "output_type": "stream",
     "text": [
      "\u001b[90mUser\u001b[0m:  he barks too loud\n"
     ]
    },
    {
     "name": "stdout",
     "output_type": "stream",
     "text": [
      "Turn 0 - Active agent: Refunds Agent\n",
      "Ending turn. No tool calls or tool execution disabled.\n",
      "Run method complete. Returning response.\n",
      "\u001b[94mRefunds Agent\u001b[0m: Would you like me to apply a discount to your next purchase in case you'd like to buy some dog treats to calm it down or would you like to proceed with the refund?\n"
     ]
    },
    {
     "name": "stdin",
     "output_type": "stream",
     "text": [
      "\u001b[90mUser\u001b[0m:  no, the refund please\n"
     ]
    },
    {
     "name": "stdout",
     "output_type": "stream",
     "text": [
      "Turn 0 - Active agent: Refunds Agent\n",
      "[mock] Refunding item item_dog because barks too loud...\n",
      "Turn 1 - Active agent: Refunds Agent\n",
      "Ending turn. No tool calls or tool execution disabled.\n",
      "Run method complete. Returning response.\n",
      "\u001b[94mRefunds Agent\u001b[0m: \u001b[95mprocess_refund\u001b[0m(\"item_id\"= \"item_dog\", \"reason\"= \"barks too loud\")\n",
      "\u001b[94mRefunds Agent\u001b[0m: Your refund has been processed successfully.\n"
     ]
    },
    {
     "ename": "KeyboardInterrupt",
     "evalue": "Interrupted by user",
     "output_type": "error",
     "traceback": [
      "\u001b[0;31m---------------------------------------------------------------------------\u001b[0m",
      "\u001b[0;31mKeyboardInterrupt\u001b[0m                         Traceback (most recent call last)",
      "Cell \u001b[0;32mIn[8], line 58\u001b[0m\n\u001b[1;32m     55\u001b[0m refunds_agent\u001b[38;5;241m.\u001b[39mfunctions\u001b[38;5;241m.\u001b[39mappend(transfer_back_to_triage)\n\u001b[1;32m     57\u001b[0m \u001b[38;5;66;03m#run_demo_loop(triage_agent, llm_type='groq', debug=True)\u001b[39;00m\n\u001b[0;32m---> 58\u001b[0m \u001b[43mrun_demo_loop\u001b[49m\u001b[43m(\u001b[49m\u001b[43mtriage_agent\u001b[49m\u001b[43m,\u001b[49m\u001b[43m \u001b[49m\u001b[43mllm_type\u001b[49m\u001b[38;5;241;43m=\u001b[39;49m\u001b[38;5;124;43m'\u001b[39;49m\u001b[38;5;124;43mgroq\u001b[39;49m\u001b[38;5;124;43m'\u001b[39;49m\u001b[43m,\u001b[49m\u001b[43m \u001b[49m\u001b[43mdebug\u001b[49m\u001b[38;5;241;43m=\u001b[39;49m\u001b[38;5;28;43;01mFalse\u001b[39;49;00m\u001b[43m)\u001b[49m\n",
      "File \u001b[0;32m~/Programmierung/microagent/microagent/repl/repl.py:64\u001b[0m, in \u001b[0;36mrun_demo_loop\u001b[0;34m(starting_agent, context_variables, stream, debug, llm_type)\u001b[0m\n\u001b[1;32m     61\u001b[0m agent \u001b[38;5;241m=\u001b[39m starting_agent\n\u001b[1;32m     63\u001b[0m \u001b[38;5;28;01mwhile\u001b[39;00m \u001b[38;5;28;01mTrue\u001b[39;00m:\n\u001b[0;32m---> 64\u001b[0m     user_input \u001b[38;5;241m=\u001b[39m \u001b[38;5;28;43minput\u001b[39;49m\u001b[43m(\u001b[49m\u001b[38;5;124;43m\"\u001b[39;49m\u001b[38;5;130;43;01m\\033\u001b[39;49;00m\u001b[38;5;124;43m[90mUser\u001b[39;49m\u001b[38;5;130;43;01m\\033\u001b[39;49;00m\u001b[38;5;124;43m[0m: \u001b[39;49m\u001b[38;5;124;43m\"\u001b[39;49m\u001b[43m)\u001b[49m\n\u001b[1;32m     65\u001b[0m     messages\u001b[38;5;241m.\u001b[39mappend({\u001b[38;5;124m\"\u001b[39m\u001b[38;5;124mrole\u001b[39m\u001b[38;5;124m\"\u001b[39m: \u001b[38;5;124m\"\u001b[39m\u001b[38;5;124muser\u001b[39m\u001b[38;5;124m\"\u001b[39m, \u001b[38;5;124m\"\u001b[39m\u001b[38;5;124mcontent\u001b[39m\u001b[38;5;124m\"\u001b[39m: user_input})\n\u001b[1;32m     67\u001b[0m     response \u001b[38;5;241m=\u001b[39m client\u001b[38;5;241m.\u001b[39mrun(\n\u001b[1;32m     68\u001b[0m         agent\u001b[38;5;241m=\u001b[39magent,\n\u001b[1;32m     69\u001b[0m         messages\u001b[38;5;241m=\u001b[39mmessages,\n\u001b[0;32m   (...)\u001b[0m\n\u001b[1;32m     72\u001b[0m         debug\u001b[38;5;241m=\u001b[39mdebug,\n\u001b[1;32m     73\u001b[0m     )\n",
      "File \u001b[0;32m~/Programmierung/microagent/venv/lib/python3.11/site-packages/ipykernel/kernelbase.py:1282\u001b[0m, in \u001b[0;36mKernel.raw_input\u001b[0;34m(self, prompt)\u001b[0m\n\u001b[1;32m   1280\u001b[0m     msg \u001b[38;5;241m=\u001b[39m \u001b[38;5;124m\"\u001b[39m\u001b[38;5;124mraw_input was called, but this frontend does not support input requests.\u001b[39m\u001b[38;5;124m\"\u001b[39m\n\u001b[1;32m   1281\u001b[0m     \u001b[38;5;28;01mraise\u001b[39;00m StdinNotImplementedError(msg)\n\u001b[0;32m-> 1282\u001b[0m \u001b[38;5;28;01mreturn\u001b[39;00m \u001b[38;5;28;43mself\u001b[39;49m\u001b[38;5;241;43m.\u001b[39;49m\u001b[43m_input_request\u001b[49m\u001b[43m(\u001b[49m\n\u001b[1;32m   1283\u001b[0m \u001b[43m    \u001b[49m\u001b[38;5;28;43mstr\u001b[39;49m\u001b[43m(\u001b[49m\u001b[43mprompt\u001b[49m\u001b[43m)\u001b[49m\u001b[43m,\u001b[49m\n\u001b[1;32m   1284\u001b[0m \u001b[43m    \u001b[49m\u001b[38;5;28;43mself\u001b[39;49m\u001b[38;5;241;43m.\u001b[39;49m\u001b[43m_parent_ident\u001b[49m\u001b[43m[\u001b[49m\u001b[38;5;124;43m\"\u001b[39;49m\u001b[38;5;124;43mshell\u001b[39;49m\u001b[38;5;124;43m\"\u001b[39;49m\u001b[43m]\u001b[49m\u001b[43m,\u001b[49m\n\u001b[1;32m   1285\u001b[0m \u001b[43m    \u001b[49m\u001b[38;5;28;43mself\u001b[39;49m\u001b[38;5;241;43m.\u001b[39;49m\u001b[43mget_parent\u001b[49m\u001b[43m(\u001b[49m\u001b[38;5;124;43m\"\u001b[39;49m\u001b[38;5;124;43mshell\u001b[39;49m\u001b[38;5;124;43m\"\u001b[39;49m\u001b[43m)\u001b[49m\u001b[43m,\u001b[49m\n\u001b[1;32m   1286\u001b[0m \u001b[43m    \u001b[49m\u001b[43mpassword\u001b[49m\u001b[38;5;241;43m=\u001b[39;49m\u001b[38;5;28;43;01mFalse\u001b[39;49;00m\u001b[43m,\u001b[49m\n\u001b[1;32m   1287\u001b[0m \u001b[43m\u001b[49m\u001b[43m)\u001b[49m\n",
      "File \u001b[0;32m~/Programmierung/microagent/venv/lib/python3.11/site-packages/ipykernel/kernelbase.py:1325\u001b[0m, in \u001b[0;36mKernel._input_request\u001b[0;34m(self, prompt, ident, parent, password)\u001b[0m\n\u001b[1;32m   1322\u001b[0m \u001b[38;5;28;01mexcept\u001b[39;00m \u001b[38;5;167;01mKeyboardInterrupt\u001b[39;00m:\n\u001b[1;32m   1323\u001b[0m     \u001b[38;5;66;03m# re-raise KeyboardInterrupt, to truncate traceback\u001b[39;00m\n\u001b[1;32m   1324\u001b[0m     msg \u001b[38;5;241m=\u001b[39m \u001b[38;5;124m\"\u001b[39m\u001b[38;5;124mInterrupted by user\u001b[39m\u001b[38;5;124m\"\u001b[39m\n\u001b[0;32m-> 1325\u001b[0m     \u001b[38;5;28;01mraise\u001b[39;00m \u001b[38;5;167;01mKeyboardInterrupt\u001b[39;00m(msg) \u001b[38;5;28;01mfrom\u001b[39;00m \u001b[38;5;28;01mNone\u001b[39;00m\n\u001b[1;32m   1326\u001b[0m \u001b[38;5;28;01mexcept\u001b[39;00m \u001b[38;5;167;01mException\u001b[39;00m:\n\u001b[1;32m   1327\u001b[0m     \u001b[38;5;28mself\u001b[39m\u001b[38;5;241m.\u001b[39mlog\u001b[38;5;241m.\u001b[39mwarning(\u001b[38;5;124m\"\u001b[39m\u001b[38;5;124mInvalid Message:\u001b[39m\u001b[38;5;124m\"\u001b[39m, exc_info\u001b[38;5;241m=\u001b[39m\u001b[38;5;28;01mTrue\u001b[39;00m)\n",
      "\u001b[0;31mKeyboardInterrupt\u001b[0m: Interrupted by user"
     ]
    }
   ],
   "source": [
    "from microagent.core import Microagent\n",
    "from microagent.types import Agent\n",
    "from microagent.repl import run_demo_loop\n",
    "\n",
    "# Check if GROQ_API_KEY is set in the environment\n",
    "if \"GROQ_API_KEY\" not in os.environ:\n",
    "    raise ValueError(\"GROQ_API_KEY environment variable is not set. Please set it before running this script.\")\n",
    "\n",
    "# Initialize Microagent with Groq as the LLM provider\n",
    "client = Microagent(llm_type='groq')\n",
    "\n",
    "# Start of new agent section\n",
    "def process_refund(item_id, reason=\"NOT SPECIFIED\"):\n",
    "    \"\"\"Refund an item. Refund an item. Make sure you have the item_id of the form item_... Ask for user confirmation before processing the refund.\"\"\"\n",
    "    print(f\"[mock] Refunding item {item_id} because {reason}...\")\n",
    "    return \"Success!\"\n",
    "\n",
    "def apply_discount():\n",
    "    \"\"\"Apply a discount to the user's cart.\"\"\"\n",
    "    print(\"[mock] Applying discount...\")\n",
    "    return \"Applied discount of 11%\"\n",
    "\n",
    "triage_agent = Agent(\n",
    "    model=\"llama-3.1-70b-versatile\",\n",
    "    tool_choice=\"auto\",\n",
    "    name=\"Triage Agent\",\n",
    "    instructions=\"Determine which agent is best suited to handle the user's request, and transfer the conversation to that agent.\",\n",
    ")\n",
    "sales_agent = Agent(\n",
    "    model=\"llama-3.1-70b-versatile\",\n",
    "    tool_choice=\"auto\",\n",
    "    name=\"Sales Agent\",\n",
    "    instructions=\"Be super enthusiastic about selling bees.\",\n",
    ")\n",
    "refunds_agent = Agent(\n",
    "    model=\"llama-3.1-70b-versatile\",\n",
    "    tool_choice=\"auto\",\n",
    "    name=\"Refunds Agent\",\n",
    "    instructions=\"Help the user with a refund. If the reason is that it was too expensive, offer the user a refund code. If they insist, then process the refund.\",\n",
    "    functions=[process_refund, apply_discount],\n",
    ")\n",
    "\n",
    "def transfer_back_to_triage():\n",
    "    \"\"\"Call this function if a user is asking about a topic that is not handled by the current agent.\"\"\"\n",
    "    return triage_agent\n",
    "\n",
    "def transfer_to_sales():\n",
    "    return sales_agent\n",
    "\n",
    "def transfer_to_refunds():\n",
    "    return refunds_agent\n",
    "\n",
    "triage_agent.functions = [transfer_to_sales, transfer_to_refunds] # add transfer functions to the supervisor for all other agents\n",
    "sales_agent.functions.append(transfer_back_to_triage) # add a transfer back to triage function to all other agents\n",
    "refunds_agent.functions.append(transfer_back_to_triage) # "\n",
    "\n",
    "#run_demo_loop(triage_agent, llm_type='groq', debug=True)\n",
    "run_demo_loop(triage_agent, llm_type='groq', debug=False)"
   ]
  },
  {
   "cell_type": "code",
   "execution_count": null,
   "id": "d582bac8-3778-4a50-8962-48ab8b961010",
   "metadata": {},
   "outputs": [],
   "source": []
  }
 ],
 "metadata": {
  "kernelspec": {
   "display_name": "Python 3 (ipykernel)",
   "language": "python",
   "name": "python3"
  },
  "language_info": {
   "codemirror_mode": {
    "name": "ipython",
    "version": 3
   },
   "file_extension": ".py",
   "mimetype": "text/x-python",
   "name": "python",
   "nbconvert_exporter": "python",
   "pygments_lexer": "ipython3",
   "version": "3.11.4"
  }
 },
 "nbformat": 4,
 "nbformat_minor": 5
}
